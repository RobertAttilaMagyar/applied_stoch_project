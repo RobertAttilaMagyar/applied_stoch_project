{
 "cells": [
  {
   "cell_type": "code",
   "execution_count": 95,
   "metadata": {},
   "outputs": [],
   "source": [
    "import numpy as np\n",
    "import networkx as nx\n",
    "import typing\n",
    "\n",
    "class BAGraph:\n",
    "    def __init__(self, \n",
    "                 m: int):\n",
    "        self._m = m\n",
    "        self._graph = nx.DiGraph()\n",
    "        self._graph.add_nodes_from(range(m))\n",
    "    \n",
    "    @property\n",
    "    def graph(self):\n",
    "        return self._graph\n",
    "    \n",
    "    @property\n",
    "    def m(self):\n",
    "        return self._m\n",
    "    \n",
    "    @property\n",
    "    def nodes(self):\n",
    "        return self._graph.nodes\n",
    "    \n",
    "    @property\n",
    "    def edges(self):\n",
    "        return self._graph.edges\n",
    "    \n",
    "    @property\n",
    "    def timearrivals(self):\n",
    "        time_arrivals = [0]*self.m + list(range(1, len(self.nodes) - self.m + 1))\n",
    "        return {i: time_arrivals[i] for i in range(len(self.nodes))}\n",
    "    \n",
    "    @property\n",
    "    def adjacency_matrix(self):\n",
    "        return nx.adjacency_matrix(self._graph)\n",
    "    \n",
    "    @property\n",
    "    def pagerank(self, \n",
    "                 alpha:float = 0.85\n",
    "                 )->dict:\n",
    "        \"\"\"\n",
    "        Returns the page rank value of each node in `dict` format\n",
    "        \"\"\"\n",
    "        return nx.pagerank(self.graph, alpha = alpha)\n",
    "    \n",
    "    @property\n",
    "    def indegrees(self):\n",
    "        return self.graph.in_degree\n",
    "    \n",
    "    @m.setter\n",
    "    def m(self, \n",
    "          m: int):\n",
    "        self._m = m\n",
    "    \n",
    "    def calcProbabilities(self) -> np.ndarray:\n",
    "        \"\"\"\n",
    "        Calculates the attachment probabilities for each node\n",
    "        when the new node comes in.\n",
    "        \"\"\"\n",
    "        if len(self.edges) == 0:\n",
    "            return np.ones(len(self.nodes))/len(self.nodes)\n",
    "        sum_degree = 2*len(self.graph.edges)\n",
    "        return np.array(list(dict(self.graph.degree).values())) / sum_degree\n",
    "     \n",
    "    def addNode(self):\n",
    "        \"\"\"\n",
    "        Adds a new node to the graph\n",
    "        \"\"\"\n",
    "        probs = self.calcProbabilities()\n",
    "        chosen_nodes = np.random.choice(list(self.graph.nodes),\n",
    "                                       self._m,\n",
    "                                       replace = False,\n",
    "                                       p = probs)\n",
    "        self.graph.add_node(len(self._graph.nodes))\n",
    "        for node in chosen_nodes:\n",
    "            self.graph.add_edge(list(self.graph.nodes)[-1],node)\n",
    "            \n",
    "    def buildGraph(self, \n",
    "                   n: int):\n",
    "        \"\"\"\n",
    "        Builds the Barabasi-Albert graph with `n` new nodes\n",
    "        \"\"\"\n",
    "        for _ in range(n):\n",
    "            self.addNode()"
   ]
  },
  {
   "cell_type": "code",
   "execution_count": 98,
   "metadata": {},
   "outputs": [
    {
     "data": {
      "text/plain": [
       "{0: 0, 1: 0, 2: 0, 3: 1, 4: 2, 5: 3, 6: 4, 7: 5}"
      ]
     },
     "execution_count": 98,
     "metadata": {},
     "output_type": "execute_result"
    }
   ],
   "source": [
    "import matplotlib.pyplot as plt\n",
    "\n",
    "g = BAGraph(3)\n",
    "g.buildGraph(5)\n",
    "g.timearrivals"
   ]
  },
  {
   "cell_type": "code",
   "execution_count": 94,
   "metadata": {},
   "outputs": [
    {
     "data": {
      "text/plain": [
       "InDegreeView({0: 2, 1: 2, 2: 3, 3: 3, 4: 3, 5: 2, 6: 0, 7: 0})"
      ]
     },
     "execution_count": 94,
     "metadata": {},
     "output_type": "execute_result"
    }
   ],
   "source": [
    "g.indegrees"
   ]
  }
 ],
 "metadata": {
  "kernelspec": {
   "display_name": "venv",
   "language": "python",
   "name": "python3"
  },
  "language_info": {
   "codemirror_mode": {
    "name": "ipython",
    "version": 3
   },
   "file_extension": ".py",
   "mimetype": "text/x-python",
   "name": "python",
   "nbconvert_exporter": "python",
   "pygments_lexer": "ipython3",
   "version": "3.10.4"
  }
 },
 "nbformat": 4,
 "nbformat_minor": 2
}
