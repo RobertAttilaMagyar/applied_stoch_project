{
 "cells": [
  {
   "cell_type": "code",
   "execution_count": 80,
   "metadata": {},
   "outputs": [],
   "source": [
    "import numpy as np\n",
    "import networkx as nx\n",
    "import typing\n",
    "\n",
    "class BAGraph:\n",
    "    def __init__(self, \n",
    "                 m: int):\n",
    "        self._m = m\n",
    "        self._graph = nx.DiGraph()\n",
    "        self._graph.add_nodes_from(range(m))\n",
    "    \n",
    "    @property\n",
    "    def graph(self):\n",
    "        return self._graph\n",
    "    \n",
    "    @property\n",
    "    def m(self):\n",
    "        return self._m\n",
    "    \n",
    "    @property\n",
    "    def nodes(self):\n",
    "        return self._graph.nodes\n",
    "    \n",
    "    @property\n",
    "    def edges(self):\n",
    "        return self._graph.edges\n",
    "    \n",
    "    @property\n",
    "    def adjacency_matrix(self):\n",
    "        return nx.adjacency_matrix(self._graph)\n",
    "    \n",
    "    @property\n",
    "    def pagerank(self, \n",
    "                 alpha:float = 0.85\n",
    "                 )->dict:\n",
    "        \"\"\"\n",
    "        Returns the page rank value of each node in `dict` format\n",
    "        \"\"\"\n",
    "        return nx.pagerank(self.graph, alpha = alpha)\n",
    "    \n",
    "    @property\n",
    "    def indegrees(self):\n",
    "        return self.graph.in_degree\n",
    "    \n",
    "    @m.setter\n",
    "    def m(self, \n",
    "          m: int):\n",
    "        self._m = m\n",
    "    \n",
    "    def calcProbabilities(self) -> np.ndarray:\n",
    "        \"\"\"\n",
    "        Calculates the attachment probabilities for each node\n",
    "        when the new node comes in.\n",
    "        \"\"\"\n",
    "        if len(self.edges) == 0:\n",
    "            return np.ones(len(self.nodes))/len(self.nodes)\n",
    "        sum_degree = 2*len(self.graph.edges)\n",
    "        return np.array(list(dict(self.graph.degree).values())) / sum_degree\n",
    "     \n",
    "    def addNode(self):\n",
    "        \"\"\"\n",
    "        Adds a new node to the graph\n",
    "        \"\"\"\n",
    "        probs = self.calcProbabilities()\n",
    "        chosen_nodes = np.random.choice(list(self.graph.nodes),\n",
    "                                       self._m,\n",
    "                                       replace = False,\n",
    "                                       p = probs)\n",
    "        self.graph.add_node(len(self._graph.nodes))\n",
    "        for node in chosen_nodes:\n",
    "            self.graph.add_edge(list(self.graph.nodes)[-1],node)\n",
    "            \n",
    "    def buildGraph(self, \n",
    "                   n: int):\n",
    "        \"\"\"\n",
    "        Builds the Barabasi-Albert graph with `n` new nodes\n",
    "        \"\"\"\n",
    "        for _ in range(n):\n",
    "            self.addNode()"
   ]
  },
  {
   "cell_type": "code",
   "execution_count": 76,
   "metadata": {},
   "outputs": [
    {
     "data": {
      "text/plain": [
       "{0: 0.2372832961987121,\n",
       " 1: 0.19646197234259968,\n",
       " 2: 0.2372832961987121,\n",
       " 3: 0.18489637955804433,\n",
       " 4: 0.1440750557019319}"
      ]
     },
     "execution_count": 76,
     "metadata": {},
     "output_type": "execute_result"
    }
   ],
   "source": [
    "import matplotlib.pyplot as plt\n",
    "\n",
    "g = BAGraph(3)\n",
    "g.buildGraph(2)\n",
    "g.nodes\n",
    "g.pagerank"
   ]
  },
  {
   "cell_type": "code",
   "execution_count": 82,
   "metadata": {},
   "outputs": [
    {
     "ename": "AttributeError",
     "evalue": "'BAGraph' object has no attribute 'indegrees'",
     "output_type": "error",
     "traceback": [
      "\u001b[0;31m---------------------------------------------------------------------------\u001b[0m",
      "\u001b[0;31mAttributeError\u001b[0m                            Traceback (most recent call last)",
      "\u001b[1;32m/home/robert/alkstoch/applied_stoch_project/scratch.ipynb Cell 3\u001b[0m line \u001b[0;36m1\n\u001b[0;32m----> <a href='vscode-notebook-cell:/home/robert/alkstoch/applied_stoch_project/scratch.ipynb#W3sZmlsZQ%3D%3D?line=0'>1</a>\u001b[0m g\u001b[39m.\u001b[39;49mindegrees()\n",
      "\u001b[0;31mAttributeError\u001b[0m: 'BAGraph' object has no attribute 'indegrees'"
     ]
    }
   ],
   "source": [
    "g.indegrees()"
   ]
  }
 ],
 "metadata": {
  "kernelspec": {
   "display_name": "venv",
   "language": "python",
   "name": "python3"
  },
  "language_info": {
   "codemirror_mode": {
    "name": "ipython",
    "version": 3
   },
   "file_extension": ".py",
   "mimetype": "text/x-python",
   "name": "python",
   "nbconvert_exporter": "python",
   "pygments_lexer": "ipython3",
   "version": "3.10.4"
  }
 },
 "nbformat": 4,
 "nbformat_minor": 2
}
